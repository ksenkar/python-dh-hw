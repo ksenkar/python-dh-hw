{
 "cells": [
  {
   "cell_type": "markdown",
   "metadata": {},
   "source": [
    "## Задание 1"
   ]
  },
  {
   "cell_type": "markdown",
   "metadata": {},
   "source": [
    "Нужно выделить все символьные биграммы в тексте и вывести их список."
   ]
  },
  {
   "cell_type": "code",
   "execution_count": 2,
   "metadata": {},
   "outputs": [
    {
     "name": "stdout",
     "output_type": "stream",
     "text": [
      "Введите вашу фразу\n",
      "абракадабра фокус покус десятка за курс немедленно появись\n",
      "['аб', 'ра', 'ка', 'да', 'бр', 'аф', 'ок', 'ус', 'по', 'ку', 'сд', 'ес', 'ят', 'ка', 'за', 'ку', 'рс', 'не', 'ме', 'дл', 'ен', 'но', 'по', 'яв', 'ис']\n",
      "{'аб': 1, 'ра': 1, 'ка': 2, 'да': 1, 'бр': 1, 'аф': 1, 'ок': 1, 'ус': 1, 'по': 2, 'ку': 2, 'сд': 1, 'ес': 1, 'ят': 1, 'за': 1, 'рс': 1, 'не': 1, 'ме': 1, 'дл': 1, 'ен': 1, 'но': 1, 'яв': 1, 'ис': 1}\n"
     ]
    }
   ],
   "source": [
    "words = input(\"Введите вашу фразу\\n\")\n",
    "simbols = [letter for letter in list(words) if letter.isalpha()] #фразу превращаем в список из символов, заодно убираем пробелы\n",
    "bigrammy = [] #список, в который будем добавлять биграммы\n",
    "while len(simbols) > 0:\n",
    "    if len(simbols) != 1:\n",
    "        haha = simbols[0] + simbols[1] #haha - это биграмма...\n",
    "        bigrammy.append(haha)\n",
    "        simbols = simbols[2:]\n",
    "    else: #на тот случай, если в списке (=фразе) нечетное число элементов и у последней буквы нет пары\n",
    "            break\n",
    "print(bigrammy)"
   ]
  },
  {
   "cell_type": "markdown",
   "metadata": {},
   "source": [
    "Нужно создать словарь, где ключи - полученные биграммы, значение - их количество в тексте."
   ]
  },
  {
   "cell_type": "code",
   "execution_count": 5,
   "metadata": {},
   "outputs": [
    {
     "name": "stdout",
     "output_type": "stream",
     "text": [
      "{'аб': 1, 'ра': 1, 'ка': 2, 'да': 1, 'бр': 1, 'аф': 1, 'ок': 1, 'ус': 1, 'по': 2, 'ку': 2, 'сд': 1, 'ес': 1, 'ят': 1, 'за': 1, 'рс': 1, 'не': 1, 'ме': 1, 'дл': 1, 'ен': 1, 'но': 1, 'яв': 1, 'ис': 1}\n"
     ]
    }
   ],
   "source": [
    "bigrammy2 = dict()\n",
    "for letters in bigrammy:\n",
    "    x = bigrammy.count(letters) #считаем, сколько раз биграмма встречается в нашем списке\n",
    "    bigrammy2[letters] = x\n",
    "print(bigrammy2)"
   ]
  },
  {
   "cell_type": "markdown",
   "metadata": {},
   "source": [
    "С третьим подпунктом в этом задании не справилась."
   ]
  },
  {
   "cell_type": "markdown",
   "metadata": {},
   "source": [
    "## Задание 2"
   ]
  },
  {
   "cell_type": "markdown",
   "metadata": {},
   "source": [
    "Даются два слова, нужно проверить, является ли второе обратной записью первого."
   ]
  },
  {
   "cell_type": "code",
   "execution_count": 1,
   "metadata": {},
   "outputs": [
    {
     "name": "stdout",
     "output_type": "stream",
     "text": [
      "Введите первое слово: гром\n",
      "Введите второе слово: морг\n",
      "YES\n",
      "Введите первое слово: шалаш\n",
      "Введите второе слово: шабаш\n",
      "NO\n"
     ]
    }
   ],
   "source": [
    "def check_words(word1, word2):\n",
    "    letters1 = list(word1)\n",
    "    letters2 = list(word2)\n",
    "    if len(letters1) != len(letters2): #что там проверять, когда слова даже по длине не совпадают \n",
    "        print(\"NO\")\n",
    "    else:\n",
    "        letters2.reverse()\n",
    "        if letters1 == letters2: #а вот теперь проверяем, что у нас слова-перевертыши\n",
    "            print(\"YES\")\n",
    "        else:\n",
    "            print(\"NO\")\n",
    "            \n",
    "check_words(input(\"Введите первое слово: \"), input (\"Введите второе слово: \"))\n",
    "check_words(input(\"Введите первое слово: \"), input (\"Введите второе слово: \"))"
   ]
  },
  {
   "cell_type": "code",
   "execution_count": null,
   "metadata": {},
   "outputs": [],
   "source": []
  }
 ],
 "metadata": {
  "kernelspec": {
   "display_name": "Python 3",
   "language": "python",
   "name": "python3"
  },
  "language_info": {
   "codemirror_mode": {
    "name": "ipython",
    "version": 3
   },
   "file_extension": ".py",
   "mimetype": "text/x-python",
   "name": "python",
   "nbconvert_exporter": "python",
   "pygments_lexer": "ipython3",
   "version": "3.6.4"
  }
 },
 "nbformat": 4,
 "nbformat_minor": 2
}
